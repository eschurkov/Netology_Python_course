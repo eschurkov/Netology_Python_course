{
 "cells": [
  {
   "cell_type": "markdown",
   "metadata": {},
   "source": [
    "### Домашнее задание к лекции 4.3 «Работа с данными»"
   ]
  },
  {
   "cell_type": "code",
   "execution_count": 1,
   "metadata": {
    "collapsed": true
   },
   "outputs": [],
   "source": [
    "import requests\n",
    "\n",
    "import pandas as pd\n",
    "import matplotlib.pyplot as plt\n",
    "from scipy.cluster.vq import whiten, kmeans2\n",
    "\n",
    "%matplotlib inline"
   ]
  },
  {
   "cell_type": "code",
   "execution_count": 2,
   "metadata": {
    "collapsed": false
   },
   "outputs": [],
   "source": [
    "def call_api(uri, result_key):\n",
    "    json = {}\n",
    "    TOKEN = '1bf65d2b230a4734ae2a989a19e14ea9'\n",
    "    try:\n",
    "        json = requests.get(uri, headers = { 'X-Auth-Token': TOKEN }).json()\n",
    "        return json[result_key]\n",
    "    except:\n",
    "        print(json)\n",
    "        return None"
   ]
  },
  {
   "cell_type": "markdown",
   "metadata": {},
   "source": [
    "Получаем команды (Лига Чемпионов 2016/17 => id=440):"
   ]
  },
  {
   "cell_type": "code",
   "execution_count": 3,
   "metadata": {
    "collapsed": false
   },
   "outputs": [
    {
     "data": {
      "text/plain": [
       "[{'_links': {'fixtures': {'href': 'http://api.football-data.org/v1/teams/729/fixtures'},\n",
       "   'players': {'href': 'http://api.football-data.org/v1/teams/729/players'},\n",
       "   'self': {'href': 'http://api.football-data.org/v1/teams/729'}},\n",
       "  'code': None,\n",
       "  'crestUrl': 'http://upload.wikimedia.org/wikipedia/commons/c/c5/FC_Basel.png',\n",
       "  'name': 'FC Basel',\n",
       "  'shortName': 'Basel',\n",
       "  'squadMarketValue': '52,900,000 €'},\n",
       " {'_links': {'fixtures': {'href': 'http://api.football-data.org/v1/teams/753/fixtures'},\n",
       "   'players': {'href': 'http://api.football-data.org/v1/teams/753/players'},\n",
       "   'self': {'href': 'http://api.football-data.org/v1/teams/753'}},\n",
       "  'code': 'LUD',\n",
       "  'crestUrl': 'http://upload.wikimedia.org/wikipedia/commons/8/87/Ludogorets_FC.png',\n",
       "  'name': 'Ludogorez Rasgrad',\n",
       "  'shortName': 'Ludogorez',\n",
       "  'squadMarketValue': '40,100,000 €'},\n",
       " {'_links': {'fixtures': {'href': 'http://api.football-data.org/v1/teams/5/fixtures'},\n",
       "   'players': {'href': 'http://api.football-data.org/v1/teams/5/players'},\n",
       "   'self': {'href': 'http://api.football-data.org/v1/teams/5'}},\n",
       "  'code': 'FCB',\n",
       "  'crestUrl': 'http://upload.wikimedia.org/wikipedia/commons/c/c5/Logo_FC_Bayern_München.svg',\n",
       "  'name': 'FC Bayern München',\n",
       "  'shortName': 'Bayern',\n",
       "  'squadMarketValue': '582,225,000 €'},\n",
       " {'_links': {'fixtures': {'href': 'http://api.football-data.org/v1/teams/1104/fixtures'},\n",
       "   'players': {'href': 'http://api.football-data.org/v1/teams/1104/players'},\n",
       "   'self': {'href': 'http://api.football-data.org/v1/teams/1104'}},\n",
       "  'code': None,\n",
       "  'crestUrl': 'https://upload.wikimedia.org/wikipedia/en/b/bf/FC_Rostov_logo.png',\n",
       "  'name': 'FC Rostov',\n",
       "  'shortName': 'Rostov',\n",
       "  'squadMarketValue': None},\n",
       " {'_links': {'fixtures': {'href': 'http://api.football-data.org/v1/teams/674/fixtures'},\n",
       "   'players': {'href': 'http://api.football-data.org/v1/teams/674/players'},\n",
       "   'self': {'href': 'http://api.football-data.org/v1/teams/674'}},\n",
       "  'code': 'PSV',\n",
       "  'crestUrl': 'http://upload.wikimedia.org/wikipedia/de/0/05/PSV_Eindhoven.svg',\n",
       "  'name': 'PSV Eindhoven',\n",
       "  'shortName': 'Eindhoven',\n",
       "  'squadMarketValue': '112,700,000 €'},\n",
       " {'_links': {'fixtures': {'href': 'http://api.football-data.org/v1/teams/78/fixtures'},\n",
       "   'players': {'href': 'http://api.football-data.org/v1/teams/78/players'},\n",
       "   'self': {'href': 'http://api.football-data.org/v1/teams/78'}},\n",
       "  'code': 'ATM',\n",
       "  'crestUrl': 'http://upload.wikimedia.org/wikipedia/de/c/c1/Atletico_Madrid_logo.svg',\n",
       "  'name': 'Club Atlético de Madrid',\n",
       "  'shortName': 'Atlético',\n",
       "  'squadMarketValue': '493,000,000 €'},\n",
       " {'_links': {'fixtures': {'href': 'http://api.football-data.org/v1/teams/81/fixtures'},\n",
       "   'players': {'href': 'http://api.football-data.org/v1/teams/81/players'},\n",
       "   'self': {'href': 'http://api.football-data.org/v1/teams/81'}},\n",
       "  'code': 'FCB',\n",
       "  'crestUrl': 'http://upload.wikimedia.org/wikipedia/de/a/aa/Fc_barcelona.svg',\n",
       "  'name': 'FC Barcelona',\n",
       "  'shortName': 'Barcelona',\n",
       "  'squadMarketValue': '741,500,000 €'},\n",
       " {'_links': {'fixtures': {'href': 'http://api.football-data.org/v1/teams/732/fixtures'},\n",
       "   'players': {'href': 'http://api.football-data.org/v1/teams/732/players'},\n",
       "   'self': {'href': 'http://api.football-data.org/v1/teams/732'}},\n",
       "  'code': None,\n",
       "  'crestUrl': 'https://upload.wikimedia.org/wikipedia/en/3/35/Celtic_FC.svg',\n",
       "  'name': 'Celtic FC',\n",
       "  'shortName': None,\n",
       "  'squadMarketValue': None},\n",
       " {'_links': {'fixtures': {'href': 'http://api.football-data.org/v1/teams/842/fixtures'},\n",
       "   'players': {'href': 'http://api.football-data.org/v1/teams/842/players'},\n",
       "   'self': {'href': 'http://api.football-data.org/v1/teams/842'}},\n",
       "  'code': 'DYK',\n",
       "  'crestUrl': 'https://upload.wikimedia.org/wikipedia/commons/5/5b/FC_Dynamo_Kyiv_logo.png',\n",
       "  'name': 'Dynamo Kyiv',\n",
       "  'shortName': 'Kyiv',\n",
       "  'squadMarketValue': '123,250,000 €'},\n",
       " {'_links': {'fixtures': {'href': 'http://api.football-data.org/v1/teams/113/fixtures'},\n",
       "   'players': {'href': 'http://api.football-data.org/v1/teams/113/players'},\n",
       "   'self': {'href': 'http://api.football-data.org/v1/teams/113'}},\n",
       "  'code': 'SSC',\n",
       "  'crestUrl': 'http://upload.wikimedia.org/wikipedia/commons/2/28/S.S.C._Napoli_logo.svg',\n",
       "  'name': 'SSC Napoli',\n",
       "  'shortName': 'Napoli',\n",
       "  'squadMarketValue': '295,875,000 €'},\n",
       " {'_links': {'fixtures': {'href': 'http://api.football-data.org/v1/teams/495/fixtures'},\n",
       "   'players': {'href': 'http://api.football-data.org/v1/teams/495/players'},\n",
       "   'self': {'href': 'http://api.football-data.org/v1/teams/495'}},\n",
       "  'code': 'SLB',\n",
       "  'crestUrl': 'http://upload.wikimedia.org/wikipedia/de/8/89/Logo_Benfica_Lissabon.svg',\n",
       "  'name': 'SL Benfica',\n",
       "  'shortName': 'Lisbon',\n",
       "  'squadMarketValue': '180,150,000 €'},\n",
       " {'_links': {'fixtures': {'href': 'http://api.football-data.org/v1/teams/600/fixtures'},\n",
       "   'players': {'href': 'http://api.football-data.org/v1/teams/600/players'},\n",
       "   'self': {'href': 'http://api.football-data.org/v1/teams/600'}},\n",
       "  'code': None,\n",
       "  'crestUrl': 'http://en.wikipedia.org/wiki/Beşiktaş_J.K.#mediaviewer/File:Logo_of_Beşiktaş_JK.svg',\n",
       "  'name': 'Besiktas JK',\n",
       "  'shortName': 'Besiktas',\n",
       "  'squadMarketValue': None},\n",
       " {'_links': {'fixtures': {'href': 'http://api.football-data.org/v1/teams/524/fixtures'},\n",
       "   'players': {'href': 'http://api.football-data.org/v1/teams/524/players'},\n",
       "   'self': {'href': 'http://api.football-data.org/v1/teams/524'}},\n",
       "  'code': 'PSG',\n",
       "  'crestUrl': 'http://upload.wikimedia.org/wikipedia/de/1/1e/Paris_Saint-Germain_(seit_2013).gif',\n",
       "  'name': 'Paris Saint-Germain',\n",
       "  'shortName': 'PSG',\n",
       "  'squadMarketValue': '412,650,000 €'},\n",
       " {'_links': {'fixtures': {'href': 'http://api.football-data.org/v1/teams/57/fixtures'},\n",
       "   'players': {'href': 'http://api.football-data.org/v1/teams/57/players'},\n",
       "   'self': {'href': 'http://api.football-data.org/v1/teams/57'}},\n",
       "  'code': 'AFC',\n",
       "  'crestUrl': 'http://upload.wikimedia.org/wikipedia/en/5/53/Arsenal_FC.svg',\n",
       "  'name': 'Arsenal FC',\n",
       "  'shortName': 'Arsenal',\n",
       "  'squadMarketValue': '468,500,000 €'},\n",
       " {'_links': {'fixtures': {'href': 'http://api.football-data.org/v1/teams/1105/fixtures'},\n",
       "   'players': {'href': 'http://api.football-data.org/v1/teams/1105/players'},\n",
       "   'self': {'href': 'http://api.football-data.org/v1/teams/1105'}},\n",
       "  'code': None,\n",
       "  'crestUrl': 'https://upload.wikimedia.org/wikipedia/commons/b/b5/Legia_Warszawa.svg',\n",
       "  'name': 'Legia Warszawa',\n",
       "  'shortName': 'Legia',\n",
       "  'squadMarketValue': None},\n",
       " {'_links': {'fixtures': {'href': 'http://api.football-data.org/v1/teams/4/fixtures'},\n",
       "   'players': {'href': 'http://api.football-data.org/v1/teams/4/players'},\n",
       "   'self': {'href': 'http://api.football-data.org/v1/teams/4'}},\n",
       "  'code': 'BVB',\n",
       "  'crestUrl': 'http://upload.wikimedia.org/wikipedia/commons/6/67/Borussia_Dortmund_logo.svg',\n",
       "  'name': 'Borussia Dortmund',\n",
       "  'shortName': 'Dortmund',\n",
       "  'squadMarketValue': '339,500,000 €'},\n",
       " {'_links': {'fixtures': {'href': 'http://api.football-data.org/v1/teams/523/fixtures'},\n",
       "   'players': {'href': 'http://api.football-data.org/v1/teams/523/players'},\n",
       "   'self': {'href': 'http://api.football-data.org/v1/teams/523'}},\n",
       "  'code': 'OLY',\n",
       "  'crestUrl': 'http://upload.wikimedia.org/wikipedia/de/f/f1/Olympique_Lyon.svg',\n",
       "  'name': 'Olympique Lyonnais',\n",
       "  'shortName': 'Lyon',\n",
       "  'squadMarketValue': '171,450,000 €'},\n",
       " {'_links': {'fixtures': {'href': 'http://api.football-data.org/v1/teams/755/fixtures'},\n",
       "   'players': {'href': 'http://api.football-data.org/v1/teams/755/players'},\n",
       "   'self': {'href': 'http://api.football-data.org/v1/teams/755'}},\n",
       "  'code': 'DIN',\n",
       "  'crestUrl': 'http://www.gnkdinamo.hr/Content/Images/main-logo.png',\n",
       "  'name': 'GNK Dinamo Zagreb',\n",
       "  'shortName': 'Zagreb',\n",
       "  'squadMarketValue': '48,250,000 €'},\n",
       " {'_links': {'fixtures': {'href': 'http://api.football-data.org/v1/teams/109/fixtures'},\n",
       "   'players': {'href': 'http://api.football-data.org/v1/teams/109/players'},\n",
       "   'self': {'href': 'http://api.football-data.org/v1/teams/109'}},\n",
       "  'code': 'JUVE',\n",
       "  'crestUrl': 'http://upload.wikimedia.org/wikipedia/de/d/d2/Juventus_Turin.svg',\n",
       "  'name': 'Juventus Turin',\n",
       "  'shortName': 'Juventus',\n",
       "  'squadMarketValue': '428,000,000 €'},\n",
       " {'_links': {'fixtures': {'href': 'http://api.football-data.org/v1/teams/559/fixtures'},\n",
       "   'players': {'href': 'http://api.football-data.org/v1/teams/559/players'},\n",
       "   'self': {'href': 'http://api.football-data.org/v1/teams/559'}},\n",
       "  'code': 'SEV',\n",
       "  'crestUrl': 'http://upload.wikimedia.org/wikipedia/en/8/86/Sevilla_cf_200px.png',\n",
       "  'name': 'Sevilla FC',\n",
       "  'shortName': 'Sevilla',\n",
       "  'squadMarketValue': '218,400,000 €'},\n",
       " {'_links': {'fixtures': {'href': 'http://api.football-data.org/v1/teams/503/fixtures'},\n",
       "   'players': {'href': 'http://api.football-data.org/v1/teams/503/players'},\n",
       "   'self': {'href': 'http://api.football-data.org/v1/teams/503'}},\n",
       "  'code': 'FCP',\n",
       "  'crestUrl': 'http://upload.wikimedia.org/wikipedia/de/e/ed/FC_Porto_1922-2005.svg',\n",
       "  'name': 'FC Porto',\n",
       "  'shortName': 'Porto',\n",
       "  'squadMarketValue': '204,900,000 €'},\n",
       " {'_links': {'fixtures': {'href': 'http://api.football-data.org/v1/teams/725/fixtures'},\n",
       "   'players': {'href': 'http://api.football-data.org/v1/teams/725/players'},\n",
       "   'self': {'href': 'http://api.football-data.org/v1/teams/725'}},\n",
       "  'code': None,\n",
       "  'crestUrl': 'http://en.wikipedia.org/wiki/F.C._Copenhagen#mediaviewer/File:FC_København.svg',\n",
       "  'name': 'FC Copenhagen',\n",
       "  'shortName': 'København',\n",
       "  'squadMarketValue': None},\n",
       " {'_links': {'fixtures': {'href': 'http://api.football-data.org/v1/teams/851/fixtures'},\n",
       "   'players': {'href': 'http://api.football-data.org/v1/teams/851/players'},\n",
       "   'self': {'href': 'http://api.football-data.org/v1/teams/851'}},\n",
       "  'code': None,\n",
       "  'crestUrl': None,\n",
       "  'name': 'Club Brugge',\n",
       "  'shortName': None,\n",
       "  'squadMarketValue': None},\n",
       " {'_links': {'fixtures': {'href': 'http://api.football-data.org/v1/teams/338/fixtures'},\n",
       "   'players': {'href': 'http://api.football-data.org/v1/teams/338/players'},\n",
       "   'self': {'href': 'http://api.football-data.org/v1/teams/338'}},\n",
       "  'code': 'LCFC',\n",
       "  'crestUrl': 'http://upload.wikimedia.org/wikipedia/en/6/63/Leicester02.png',\n",
       "  'name': 'Leicester City FC',\n",
       "  'shortName': 'Foxes',\n",
       "  'squadMarketValue': '210,500,000 €'},\n",
       " {'_links': {'fixtures': {'href': 'http://api.football-data.org/v1/teams/86/fixtures'},\n",
       "   'players': {'href': 'http://api.football-data.org/v1/teams/86/players'},\n",
       "   'self': {'href': 'http://api.football-data.org/v1/teams/86'}},\n",
       "  'code': 'MAD',\n",
       "  'crestUrl': 'http://upload.wikimedia.org/wikipedia/de/3/3f/Real_Madrid_Logo.svg',\n",
       "  'name': 'Real Madrid CF',\n",
       "  'shortName': 'Real Madrid',\n",
       "  'squadMarketValue': '769,300,000 €'},\n",
       " {'_links': {'fixtures': {'href': 'http://api.football-data.org/v1/teams/498/fixtures'},\n",
       "   'players': {'href': 'http://api.football-data.org/v1/teams/498/players'},\n",
       "   'self': {'href': 'http://api.football-data.org/v1/teams/498'}},\n",
       "  'code': 'SCP',\n",
       "  'crestUrl': 'https://upload.wikimedia.org/wikipedia/en/3/3e/Sporting_Clube_de_Portugal.png',\n",
       "  'name': 'Sporting CP',\n",
       "  'shortName': 'Sporting',\n",
       "  'squadMarketValue': '220,250,000 €'},\n",
       " {'_links': {'fixtures': {'href': 'http://api.football-data.org/v1/teams/3/fixtures'},\n",
       "   'players': {'href': 'http://api.football-data.org/v1/teams/3/players'},\n",
       "   'self': {'href': 'http://api.football-data.org/v1/teams/3'}},\n",
       "  'code': 'B04',\n",
       "  'crestUrl': 'http://upload.wikimedia.org/wikipedia/de/9/95/Bayer_04_Leverkusen_Logo.svg',\n",
       "  'name': 'Bayer Leverkusen',\n",
       "  'shortName': 'Leverkusen',\n",
       "  'squadMarketValue': '253,900,000 €'},\n",
       " {'_links': {'fixtures': {'href': 'http://api.football-data.org/v1/teams/751/fixtures'},\n",
       "   'players': {'href': 'http://api.football-data.org/v1/teams/751/players'},\n",
       "   'self': {'href': 'http://api.football-data.org/v1/teams/751'}},\n",
       "  'code': 'CSK',\n",
       "  'crestUrl': 'https://upload.wikimedia.org/wikipedia/en/f/fa/CSKA_Moscow_logo.png',\n",
       "  'name': 'CSKA Moscow',\n",
       "  'shortName': 'CSKA',\n",
       "  'squadMarketValue': '152,650,000 €'},\n",
       " {'_links': {'fixtures': {'href': 'http://api.football-data.org/v1/teams/65/fixtures'},\n",
       "   'players': {'href': 'http://api.football-data.org/v1/teams/65/players'},\n",
       "   'self': {'href': 'http://api.football-data.org/v1/teams/65'}},\n",
       "  'code': 'MCFC',\n",
       "  'crestUrl': 'https://upload.wikimedia.org/wikipedia/en/e/eb/Manchester_City_FC_badge.svg',\n",
       "  'name': 'Manchester City FC',\n",
       "  'shortName': 'ManCity',\n",
       "  'squadMarketValue': '518,000,000 €'},\n",
       " {'_links': {'fixtures': {'href': 'http://api.football-data.org/v1/teams/18/fixtures'},\n",
       "   'players': {'href': 'http://api.football-data.org/v1/teams/18/players'},\n",
       "   'self': {'href': 'http://api.football-data.org/v1/teams/18'}},\n",
       "  'code': 'BMG',\n",
       "  'crestUrl': 'https://upload.wikimedia.org/wikipedia/commons/8/81/Borussia_Mönchengladbach_logo.svg',\n",
       "  'name': 'Bor. Mönchengladbach',\n",
       "  'shortName': \"M'gladbach\",\n",
       "  'squadMarketValue': '165,600,000 €'},\n",
       " {'_links': {'fixtures': {'href': 'http://api.football-data.org/v1/teams/73/fixtures'},\n",
       "   'players': {'href': 'http://api.football-data.org/v1/teams/73/players'},\n",
       "   'self': {'href': 'http://api.football-data.org/v1/teams/73'}},\n",
       "  'code': 'THFC',\n",
       "  'crestUrl': 'http://upload.wikimedia.org/wikipedia/de/b/b4/Tottenham_Hotspur.svg',\n",
       "  'name': 'Tottenham Hotspur FC',\n",
       "  'shortName': 'Spurs',\n",
       "  'squadMarketValue': '365,500,000 €'},\n",
       " {'_links': {'fixtures': {'href': 'http://api.football-data.org/v1/teams/548/fixtures'},\n",
       "   'players': {'href': 'http://api.football-data.org/v1/teams/548/players'},\n",
       "   'self': {'href': 'http://api.football-data.org/v1/teams/548'}},\n",
       "  'code': 'MON',\n",
       "  'crestUrl': 'http://upload.wikimedia.org/wikipedia/de/3/3c/AS_Monaco.svg',\n",
       "  'name': 'AS Monaco FC',\n",
       "  'shortName': 'Monaco',\n",
       "  'squadMarketValue': '164,250,000 €'}]"
      ]
     },
     "execution_count": 3,
     "metadata": {},
     "output_type": "execute_result"
    }
   ],
   "source": [
    "teams = call_api('http://api.football-data.org/v1/competitions/440/teams', 'teams')\n",
    "teams"
   ]
  },
  {
   "cell_type": "markdown",
   "metadata": {},
   "source": [
    "Готовим данные для трансформации в Pandas"
   ]
  },
  {
   "cell_type": "code",
   "execution_count": 4,
   "metadata": {
    "collapsed": false
   },
   "outputs": [
    {
     "data": {
      "text/plain": [
       "[{'losses': 4, 'name': 'FC Basel', 'squadMarketValue': 52900000},\n",
       " {'losses': 3, 'name': 'Ludogorez Rasgrad', 'squadMarketValue': 40100000},\n",
       " {'losses': 2, 'name': 'FC Bayern München', 'squadMarketValue': 582225000},\n",
       " {'losses': 4, 'name': 'PSV Eindhoven', 'squadMarketValue': 112700000},\n",
       " {'losses': 1,\n",
       "  'name': 'Club Atlético de Madrid',\n",
       "  'squadMarketValue': 493000000},\n",
       " {'losses': 2, 'name': 'FC Barcelona', 'squadMarketValue': 741500000},\n",
       " {'losses': 3, 'name': 'Dynamo Kyiv', 'squadMarketValue': 123250000},\n",
       " {'losses': 2, 'name': 'SSC Napoli', 'squadMarketValue': 295875000},\n",
       " {'losses': 2, 'name': 'SL Benfica', 'squadMarketValue': 180150000},\n",
       " {'losses': 0, 'name': 'Paris Saint-Germain', 'squadMarketValue': 412650000},\n",
       " {'losses': 1, 'name': 'Arsenal FC', 'squadMarketValue': 468500000},\n",
       " {'losses': 1, 'name': 'Borussia Dortmund', 'squadMarketValue': 339500000},\n",
       " {'losses': 2, 'name': 'Olympique Lyonnais', 'squadMarketValue': 171450000},\n",
       " {'losses': 6, 'name': 'GNK Dinamo Zagreb', 'squadMarketValue': 48250000},\n",
       " {'losses': 0, 'name': 'Juventus Turin', 'squadMarketValue': 428000000},\n",
       " {'losses': 1, 'name': 'Sevilla FC', 'squadMarketValue': 218400000},\n",
       " {'losses': 2, 'name': 'FC Porto', 'squadMarketValue': 204900000},\n",
       " {'losses': 2, 'name': 'Leicester City FC', 'squadMarketValue': 210500000},\n",
       " {'losses': 0, 'name': 'Real Madrid CF', 'squadMarketValue': 769300000},\n",
       " {'losses': 5, 'name': 'Sporting CP', 'squadMarketValue': 220250000},\n",
       " {'losses': 1, 'name': 'Bayer Leverkusen', 'squadMarketValue': 253900000},\n",
       " {'losses': 3, 'name': 'CSKA Moscow', 'squadMarketValue': 152650000},\n",
       " {'losses': 1, 'name': 'Manchester City FC', 'squadMarketValue': 518000000},\n",
       " {'losses': 3, 'name': 'Bor. Mönchengladbach', 'squadMarketValue': 165600000},\n",
       " {'losses': 3, 'name': 'Tottenham Hotspur FC', 'squadMarketValue': 365500000},\n",
       " {'losses': 3, 'name': 'AS Monaco FC', 'squadMarketValue': 164250000}]"
      ]
     },
     "execution_count": 4,
     "metadata": {},
     "output_type": "execute_result"
    }
   ],
   "source": [
    "team_for_pd = []\n",
    "for team in teams:\n",
    "    \n",
    "    # Считаем проигрыши только в турнире ЛЧ\n",
    "    fixtures = call_api(team['_links']['fixtures']['href'], 'fixtures')\n",
    "    team['losses'] = 0\n",
    "    for f in fixtures:\n",
    "        if f['_links']['competition']['href'] == 'http://api.football-data.org/v1/competitions/440' and\\\n",
    "                (f['result']['goalsHomeTeam'] or f['result']['goalsAwayTeam']) != None:\n",
    "            # Команда, забившая меньше, прогрывает (ничьи не считаем вообще)\n",
    "            if (team['name'] == f['homeTeamName'] and f['result']['goalsHomeTeam'] < f['result']['goalsAwayTeam']) or\\\n",
    "                    (team['name'] == f['awayTeamName'] and f['result']['goalsHomeTeam'] > f['result']['goalsAwayTeam']):\n",
    "                team['losses'] += 1\n",
    "    # Переводим стоимость в число\n",
    "    if team['squadMarketValue']:\n",
    "        team['squadMarketValue'] = int(str(team['squadMarketValue']).replace('€','').replace(',','').strip())\n",
    "        # Если стоимости нет, то не добавляем\n",
    "        team_for_pd.append({'name': team['name'], 'squadMarketValue': team['squadMarketValue'], 'losses': team['losses']})\n",
    "            \n",
    "team_for_pd"
   ]
  },
  {
   "cell_type": "markdown",
   "metadata": {},
   "source": [
    "Трансформируем"
   ]
  },
  {
   "cell_type": "code",
   "execution_count": 5,
   "metadata": {
    "collapsed": false
   },
   "outputs": [
    {
     "data": {
      "text/html": [
       "<div>\n",
       "<table border=\"1\" class=\"dataframe\">\n",
       "  <thead>\n",
       "    <tr style=\"text-align: right;\">\n",
       "      <th></th>\n",
       "      <th>losses</th>\n",
       "      <th>name</th>\n",
       "      <th>squadMarketValue</th>\n",
       "    </tr>\n",
       "  </thead>\n",
       "  <tbody>\n",
       "    <tr>\n",
       "      <th>0</th>\n",
       "      <td>4</td>\n",
       "      <td>FC Basel</td>\n",
       "      <td>52900000</td>\n",
       "    </tr>\n",
       "    <tr>\n",
       "      <th>1</th>\n",
       "      <td>3</td>\n",
       "      <td>Ludogorez Rasgrad</td>\n",
       "      <td>40100000</td>\n",
       "    </tr>\n",
       "    <tr>\n",
       "      <th>2</th>\n",
       "      <td>2</td>\n",
       "      <td>FC Bayern München</td>\n",
       "      <td>582225000</td>\n",
       "    </tr>\n",
       "    <tr>\n",
       "      <th>3</th>\n",
       "      <td>4</td>\n",
       "      <td>PSV Eindhoven</td>\n",
       "      <td>112700000</td>\n",
       "    </tr>\n",
       "    <tr>\n",
       "      <th>4</th>\n",
       "      <td>1</td>\n",
       "      <td>Club Atlético de Madrid</td>\n",
       "      <td>493000000</td>\n",
       "    </tr>\n",
       "    <tr>\n",
       "      <th>5</th>\n",
       "      <td>2</td>\n",
       "      <td>FC Barcelona</td>\n",
       "      <td>741500000</td>\n",
       "    </tr>\n",
       "    <tr>\n",
       "      <th>6</th>\n",
       "      <td>3</td>\n",
       "      <td>Dynamo Kyiv</td>\n",
       "      <td>123250000</td>\n",
       "    </tr>\n",
       "    <tr>\n",
       "      <th>7</th>\n",
       "      <td>2</td>\n",
       "      <td>SSC Napoli</td>\n",
       "      <td>295875000</td>\n",
       "    </tr>\n",
       "    <tr>\n",
       "      <th>8</th>\n",
       "      <td>2</td>\n",
       "      <td>SL Benfica</td>\n",
       "      <td>180150000</td>\n",
       "    </tr>\n",
       "    <tr>\n",
       "      <th>9</th>\n",
       "      <td>0</td>\n",
       "      <td>Paris Saint-Germain</td>\n",
       "      <td>412650000</td>\n",
       "    </tr>\n",
       "    <tr>\n",
       "      <th>10</th>\n",
       "      <td>1</td>\n",
       "      <td>Arsenal FC</td>\n",
       "      <td>468500000</td>\n",
       "    </tr>\n",
       "    <tr>\n",
       "      <th>11</th>\n",
       "      <td>1</td>\n",
       "      <td>Borussia Dortmund</td>\n",
       "      <td>339500000</td>\n",
       "    </tr>\n",
       "    <tr>\n",
       "      <th>12</th>\n",
       "      <td>2</td>\n",
       "      <td>Olympique Lyonnais</td>\n",
       "      <td>171450000</td>\n",
       "    </tr>\n",
       "    <tr>\n",
       "      <th>13</th>\n",
       "      <td>6</td>\n",
       "      <td>GNK Dinamo Zagreb</td>\n",
       "      <td>48250000</td>\n",
       "    </tr>\n",
       "    <tr>\n",
       "      <th>14</th>\n",
       "      <td>0</td>\n",
       "      <td>Juventus Turin</td>\n",
       "      <td>428000000</td>\n",
       "    </tr>\n",
       "    <tr>\n",
       "      <th>15</th>\n",
       "      <td>1</td>\n",
       "      <td>Sevilla FC</td>\n",
       "      <td>218400000</td>\n",
       "    </tr>\n",
       "    <tr>\n",
       "      <th>16</th>\n",
       "      <td>2</td>\n",
       "      <td>FC Porto</td>\n",
       "      <td>204900000</td>\n",
       "    </tr>\n",
       "    <tr>\n",
       "      <th>17</th>\n",
       "      <td>2</td>\n",
       "      <td>Leicester City FC</td>\n",
       "      <td>210500000</td>\n",
       "    </tr>\n",
       "    <tr>\n",
       "      <th>18</th>\n",
       "      <td>0</td>\n",
       "      <td>Real Madrid CF</td>\n",
       "      <td>769300000</td>\n",
       "    </tr>\n",
       "    <tr>\n",
       "      <th>19</th>\n",
       "      <td>5</td>\n",
       "      <td>Sporting CP</td>\n",
       "      <td>220250000</td>\n",
       "    </tr>\n",
       "    <tr>\n",
       "      <th>20</th>\n",
       "      <td>1</td>\n",
       "      <td>Bayer Leverkusen</td>\n",
       "      <td>253900000</td>\n",
       "    </tr>\n",
       "    <tr>\n",
       "      <th>21</th>\n",
       "      <td>3</td>\n",
       "      <td>CSKA Moscow</td>\n",
       "      <td>152650000</td>\n",
       "    </tr>\n",
       "    <tr>\n",
       "      <th>22</th>\n",
       "      <td>1</td>\n",
       "      <td>Manchester City FC</td>\n",
       "      <td>518000000</td>\n",
       "    </tr>\n",
       "    <tr>\n",
       "      <th>23</th>\n",
       "      <td>3</td>\n",
       "      <td>Bor. Mönchengladbach</td>\n",
       "      <td>165600000</td>\n",
       "    </tr>\n",
       "    <tr>\n",
       "      <th>24</th>\n",
       "      <td>3</td>\n",
       "      <td>Tottenham Hotspur FC</td>\n",
       "      <td>365500000</td>\n",
       "    </tr>\n",
       "    <tr>\n",
       "      <th>25</th>\n",
       "      <td>3</td>\n",
       "      <td>AS Monaco FC</td>\n",
       "      <td>164250000</td>\n",
       "    </tr>\n",
       "  </tbody>\n",
       "</table>\n",
       "</div>"
      ],
      "text/plain": [
       "    losses                     name  squadMarketValue\n",
       "0        4                 FC Basel          52900000\n",
       "1        3        Ludogorez Rasgrad          40100000\n",
       "2        2        FC Bayern München         582225000\n",
       "3        4            PSV Eindhoven         112700000\n",
       "4        1  Club Atlético de Madrid         493000000\n",
       "5        2             FC Barcelona         741500000\n",
       "6        3              Dynamo Kyiv         123250000\n",
       "7        2               SSC Napoli         295875000\n",
       "8        2               SL Benfica         180150000\n",
       "9        0      Paris Saint-Germain         412650000\n",
       "10       1               Arsenal FC         468500000\n",
       "11       1        Borussia Dortmund         339500000\n",
       "12       2       Olympique Lyonnais         171450000\n",
       "13       6        GNK Dinamo Zagreb          48250000\n",
       "14       0           Juventus Turin         428000000\n",
       "15       1               Sevilla FC         218400000\n",
       "16       2                 FC Porto         204900000\n",
       "17       2        Leicester City FC         210500000\n",
       "18       0           Real Madrid CF         769300000\n",
       "19       5              Sporting CP         220250000\n",
       "20       1         Bayer Leverkusen         253900000\n",
       "21       3              CSKA Moscow         152650000\n",
       "22       1       Manchester City FC         518000000\n",
       "23       3     Bor. Mönchengladbach         165600000\n",
       "24       3     Tottenham Hotspur FC         365500000\n",
       "25       3             AS Monaco FC         164250000"
      ]
     },
     "execution_count": 5,
     "metadata": {},
     "output_type": "execute_result"
    }
   ],
   "source": [
    "teams_pd = pd.DataFrame(team_for_pd)\n",
    "teams_pd"
   ]
  },
  {
   "cell_type": "markdown",
   "metadata": {},
   "source": [
    "Отображаем"
   ]
  },
  {
   "cell_type": "code",
   "execution_count": 6,
   "metadata": {
    "collapsed": false,
    "scrolled": true
   },
   "outputs": [
    {
     "data": {
      "text/plain": [
       "<matplotlib.axes._subplots.AxesSubplot at 0xafe6ef0>"
      ]
     },
     "execution_count": 6,
     "metadata": {},
     "output_type": "execute_result"
    },
    {
     "data": {
      "image/png": "[encoded data removed]",
      "text/plain": [
       "<matplotlib.figure.Figure at 0xad84748>"
      ]
     },
     "metadata": {},
     "output_type": "display_data"
    }
   ],
   "source": [
    "teams_pd.plot.scatter(x='squadMarketValue', y='losses', s=100)"
   ]
  },
  {
   "cell_type": "markdown",
   "metadata": {},
   "source": [
    "Удаляем колонку с именами"
   ]
  },
  {
   "cell_type": "code",
   "execution_count": 7,
   "metadata": {
    "collapsed": false
   },
   "outputs": [
    {
     "data": {
      "text/html": [
       "<div>\n",
       "<table border=\"1\" class=\"dataframe\">\n",
       "  <thead>\n",
       "    <tr style=\"text-align: right;\">\n",
       "      <th></th>\n",
       "      <th>losses</th>\n",
       "      <th>squadMarketValue</th>\n",
       "    </tr>\n",
       "  </thead>\n",
       "  <tbody>\n",
       "    <tr>\n",
       "      <th>0</th>\n",
       "      <td>4</td>\n",
       "      <td>52900000</td>\n",
       "    </tr>\n",
       "    <tr>\n",
       "      <th>1</th>\n",
       "      <td>3</td>\n",
       "      <td>40100000</td>\n",
       "    </tr>\n",
       "    <tr>\n",
       "      <th>2</th>\n",
       "      <td>2</td>\n",
       "      <td>582225000</td>\n",
       "    </tr>\n",
       "    <tr>\n",
       "      <th>3</th>\n",
       "      <td>4</td>\n",
       "      <td>112700000</td>\n",
       "    </tr>\n",
       "    <tr>\n",
       "      <th>4</th>\n",
       "      <td>1</td>\n",
       "      <td>493000000</td>\n",
       "    </tr>\n",
       "    <tr>\n",
       "      <th>5</th>\n",
       "      <td>2</td>\n",
       "      <td>741500000</td>\n",
       "    </tr>\n",
       "    <tr>\n",
       "      <th>6</th>\n",
       "      <td>3</td>\n",
       "      <td>123250000</td>\n",
       "    </tr>\n",
       "    <tr>\n",
       "      <th>7</th>\n",
       "      <td>2</td>\n",
       "      <td>295875000</td>\n",
       "    </tr>\n",
       "    <tr>\n",
       "      <th>8</th>\n",
       "      <td>2</td>\n",
       "      <td>180150000</td>\n",
       "    </tr>\n",
       "    <tr>\n",
       "      <th>9</th>\n",
       "      <td>0</td>\n",
       "      <td>412650000</td>\n",
       "    </tr>\n",
       "    <tr>\n",
       "      <th>10</th>\n",
       "      <td>1</td>\n",
       "      <td>468500000</td>\n",
       "    </tr>\n",
       "    <tr>\n",
       "      <th>11</th>\n",
       "      <td>1</td>\n",
       "      <td>339500000</td>\n",
       "    </tr>\n",
       "    <tr>\n",
       "      <th>12</th>\n",
       "      <td>2</td>\n",
       "      <td>171450000</td>\n",
       "    </tr>\n",
       "    <tr>\n",
       "      <th>13</th>\n",
       "      <td>6</td>\n",
       "      <td>48250000</td>\n",
       "    </tr>\n",
       "    <tr>\n",
       "      <th>14</th>\n",
       "      <td>0</td>\n",
       "      <td>428000000</td>\n",
       "    </tr>\n",
       "    <tr>\n",
       "      <th>15</th>\n",
       "      <td>1</td>\n",
       "      <td>218400000</td>\n",
       "    </tr>\n",
       "    <tr>\n",
       "      <th>16</th>\n",
       "      <td>2</td>\n",
       "      <td>204900000</td>\n",
       "    </tr>\n",
       "    <tr>\n",
       "      <th>17</th>\n",
       "      <td>2</td>\n",
       "      <td>210500000</td>\n",
       "    </tr>\n",
       "    <tr>\n",
       "      <th>18</th>\n",
       "      <td>0</td>\n",
       "      <td>769300000</td>\n",
       "    </tr>\n",
       "    <tr>\n",
       "      <th>19</th>\n",
       "      <td>5</td>\n",
       "      <td>220250000</td>\n",
       "    </tr>\n",
       "    <tr>\n",
       "      <th>20</th>\n",
       "      <td>1</td>\n",
       "      <td>253900000</td>\n",
       "    </tr>\n",
       "    <tr>\n",
       "      <th>21</th>\n",
       "      <td>3</td>\n",
       "      <td>152650000</td>\n",
       "    </tr>\n",
       "    <tr>\n",
       "      <th>22</th>\n",
       "      <td>1</td>\n",
       "      <td>518000000</td>\n",
       "    </tr>\n",
       "    <tr>\n",
       "      <th>23</th>\n",
       "      <td>3</td>\n",
       "      <td>165600000</td>\n",
       "    </tr>\n",
       "    <tr>\n",
       "      <th>24</th>\n",
       "      <td>3</td>\n",
       "      <td>365500000</td>\n",
       "    </tr>\n",
       "    <tr>\n",
       "      <th>25</th>\n",
       "      <td>3</td>\n",
       "      <td>164250000</td>\n",
       "    </tr>\n",
       "  </tbody>\n",
       "</table>\n",
       "</div>"
      ],
      "text/plain": [
       "    losses  squadMarketValue\n",
       "0        4          52900000\n",
       "1        3          40100000\n",
       "2        2         582225000\n",
       "3        4         112700000\n",
       "4        1         493000000\n",
       "5        2         741500000\n",
       "6        3         123250000\n",
       "7        2         295875000\n",
       "8        2         180150000\n",
       "9        0         412650000\n",
       "10       1         468500000\n",
       "11       1         339500000\n",
       "12       2         171450000\n",
       "13       6          48250000\n",
       "14       0         428000000\n",
       "15       1         218400000\n",
       "16       2         204900000\n",
       "17       2         210500000\n",
       "18       0         769300000\n",
       "19       5         220250000\n",
       "20       1         253900000\n",
       "21       3         152650000\n",
       "22       1         518000000\n",
       "23       3         165600000\n",
       "24       3         365500000\n",
       "25       3         164250000"
      ]
     },
     "execution_count": 7,
     "metadata": {},
     "output_type": "execute_result"
    }
   ],
   "source": [
    "del teams_pd['name']\n",
    "teams_pd"
   ]
  },
  {
   "cell_type": "markdown",
   "metadata": {},
   "source": [
    "Нормализация данных"
   ]
  },
  {
   "cell_type": "code",
   "execution_count": 8,
   "metadata": {
    "collapsed": false
   },
   "outputs": [
    {
     "data": {
      "text/plain": [
       "array([[ 2.72460509,  0.26677363],\n",
       "       [ 2.04345382,  0.20222349],\n",
       "       [ 1.36230254,  2.93614886],\n",
       "       [ 2.72460509,  0.56834381],\n",
       "       [ 0.68115127,  2.486189  ],\n",
       "       [ 1.36230254,  3.73936945],\n",
       "       [ 2.04345382,  0.62154725],\n",
       "       [ 1.36230254,  1.49209162],\n",
       "       [ 1.36230254,  0.90849279],\n",
       "       [ 0.        ,  2.08098558],\n",
       "       [ 0.68115127,  2.36263599],\n",
       "       [ 0.68115127,  1.71209161],\n",
       "       [ 1.36230254,  0.86461887],\n",
       "       [ 4.08690763,  0.24332377],\n",
       "       [ 0.        ,  2.15839531],\n",
       "       [ 0.68115127,  1.10138677],\n",
       "       [ 1.36230254,  1.03330654],\n",
       "       [ 1.36230254,  1.06154723],\n",
       "       [ 0.        ,  3.87956429],\n",
       "       [ 3.40575636,  1.11071628],\n",
       "       [ 0.68115127,  1.28041255],\n",
       "       [ 2.04345382,  0.76981085],\n",
       "       [ 0.68115127,  2.61226349],\n",
       "       [ 2.04345382,  0.83511744],\n",
       "       [ 2.04345382,  1.84320908],\n",
       "       [ 2.04345382,  0.82830942]])"
      ]
     },
     "execution_count": 8,
     "metadata": {},
     "output_type": "execute_result"
    }
   ],
   "source": [
    "whitened = whiten(teams_pd.as_matrix())\n",
    "whitened"
   ]
  },
  {
   "cell_type": "markdown",
   "metadata": {},
   "source": [
    "Сделаем 3 кластера"
   ]
  },
  {
   "cell_type": "code",
   "execution_count": 9,
   "metadata": {
    "collapsed": false
   },
   "outputs": [
    {
     "data": {
      "text/plain": [
       "(array([[ 1.57188755,  0.98785184],\n",
       "        [ 3.23546854,  0.54728937],\n",
       "        [ 0.6054678 ,  2.66307151]]),\n",
       " array([1, 0, 2, 1, 2, 2, 0, 0, 0, 2, 2, 2, 0, 1, 2, 0, 0, 0, 2, 1, 0, 0, 2,\n",
       "        0, 0, 0]))"
      ]
     },
     "execution_count": 9,
     "metadata": {},
     "output_type": "execute_result"
    }
   ],
   "source": [
    "centroids, cluster_map = kmeans2(whitened, 3)\n",
    "centroids, cluster_map"
   ]
  },
  {
   "cell_type": "markdown",
   "metadata": {},
   "source": [
    "Зададим цвета для каждого кластера"
   ]
  },
  {
   "cell_type": "code",
   "execution_count": 10,
   "metadata": {
    "collapsed": false
   },
   "outputs": [
    {
     "data": {
      "text/plain": [
       "['g',\n",
       " 'r',\n",
       " 'b',\n",
       " 'g',\n",
       " 'b',\n",
       " 'b',\n",
       " 'r',\n",
       " 'r',\n",
       " 'r',\n",
       " 'b',\n",
       " 'b',\n",
       " 'b',\n",
       " 'r',\n",
       " 'g',\n",
       " 'b',\n",
       " 'r',\n",
       " 'r',\n",
       " 'r',\n",
       " 'b',\n",
       " 'g',\n",
       " 'r',\n",
       " 'r',\n",
       " 'b',\n",
       " 'r',\n",
       " 'r',\n",
       " 'r']"
      ]
     },
     "execution_count": 10,
     "metadata": {},
     "output_type": "execute_result"
    }
   ],
   "source": [
    "colors_map = {0: 'r', 1: 'g', 2: 'b', 3: 'y', 4: 'm'}\n",
    "colors = [colors_map[c] for c in cluster_map]\n",
    "colors"
   ]
  },
  {
   "cell_type": "code",
   "execution_count": 11,
   "metadata": {
    "collapsed": false
   },
   "outputs": [
    {
     "data": {
      "text/plain": [
       "<matplotlib.axes._subplots.AxesSubplot at 0xb290518>"
      ]
     },
     "execution_count": 11,
     "metadata": {},
     "output_type": "execute_result"
    },
    {
     "data": {
      "image/png": "[encoded data removed]",
      "text/plain": [
       "<matplotlib.figure.Figure at 0xad84e10>"
      ]
     },
     "metadata": {},
     "output_type": "display_data"
    }
   ],
   "source": [
    "teams_pd.plot.scatter(x='squadMarketValue', y='losses', c=colors, s=100)"
   ]
  },
  {
   "cell_type": "markdown",
   "metadata": {},
   "source": [
    "Теперь попробуем сделать больше кластеров."
   ]
  },
  {
   "cell_type": "code",
   "execution_count": 12,
   "metadata": {
    "collapsed": false
   },
   "outputs": [
    {
     "data": {
      "text/plain": [
       "(array([[ 2.04345382,  0.65140169],\n",
       "        [ 1.21093559,  1.25523967],\n",
       "        [ 0.59600736,  2.781944  ],\n",
       "        [ 2.95165551,  0.64861124],\n",
       "        [ 4.08690763,  0.24332377]]),\n",
       " array([3, 0, 2, 3, 2, 2, 0, 1, 1, 2, 2, 1, 1, 4, 2, 1, 1, 1, 2, 3, 1, 0, 2,\n",
       "        0, 1, 0]))"
      ]
     },
     "execution_count": 12,
     "metadata": {},
     "output_type": "execute_result"
    }
   ],
   "source": [
    "centroids, cluster_map = kmeans2(whitened, 5)\n",
    "centroids, cluster_map"
   ]
  },
  {
   "cell_type": "code",
   "execution_count": 13,
   "metadata": {
    "collapsed": false
   },
   "outputs": [
    {
     "data": {
      "text/plain": [
       "['y',\n",
       " 'r',\n",
       " 'b',\n",
       " 'y',\n",
       " 'b',\n",
       " 'b',\n",
       " 'r',\n",
       " 'g',\n",
       " 'g',\n",
       " 'b',\n",
       " 'b',\n",
       " 'g',\n",
       " 'g',\n",
       " 'm',\n",
       " 'b',\n",
       " 'g',\n",
       " 'g',\n",
       " 'g',\n",
       " 'b',\n",
       " 'y',\n",
       " 'g',\n",
       " 'r',\n",
       " 'b',\n",
       " 'r',\n",
       " 'g',\n",
       " 'r']"
      ]
     },
     "execution_count": 13,
     "metadata": {},
     "output_type": "execute_result"
    }
   ],
   "source": [
    "colors_map = {0: 'r', 1: 'g', 2: 'b', 3: 'y', 4: 'm'}\n",
    "colors = [colors_map[c] for c in cluster_map]\n",
    "colors"
   ]
  },
  {
   "cell_type": "code",
   "execution_count": 14,
   "metadata": {
    "collapsed": false
   },
   "outputs": [
    {
     "data": {
      "text/plain": [
       "<matplotlib.axes._subplots.AxesSubplot at 0xb3e2320>"
      ]
     },
     "execution_count": 14,
     "metadata": {},
     "output_type": "execute_result"
    },
    {
     "data": {
      "image/png": "[encoded data removed]",
      "text/plain": [
       "<matplotlib.figure.Figure at 0xb3b40b8>"
      ]
     },
     "metadata": {},
     "output_type": "display_data"
    }
   ],
   "source": [
    "teams_pd.plot.scatter(x='squadMarketValue', y='losses', c=colors, s=100)"
   ]
  },
  {
   "cell_type": "code",
   "execution_count": null,
   "metadata": {
    "collapsed": true
   },
   "outputs": [],
   "source": []
  }
 ],
 "metadata": {
  "anaconda-cloud": {},
  "kernelspec": {
   "display_name": "Python 3",
   "language": "python",
   "name": "python3"
  },
  "language_info": {
   "codemirror_mode": {
    "name": "ipython",
    "version": 3
   },
   "file_extension": ".py",
   "mimetype": "text/x-python",
   "name": "python",
   "nbconvert_exporter": "python",
   "pygments_lexer": "ipython3",
   "version": "3.6.0"
  }
 },
 "nbformat": 4,
 "nbformat_minor": 1
}
